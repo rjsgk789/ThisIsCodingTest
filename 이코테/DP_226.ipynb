{
 "cells": [
  {
   "cell_type": "code",
   "execution_count": 16,
   "metadata": {},
   "outputs": [
    {
     "name": "stdout",
     "output_type": "stream",
     "text": [
      "3 7\n",
      "2\n",
      "3\n",
      "5\n",
      "3\n",
      "[0, 10001, 1, 1, 2, 2, 2, 3]\n"
     ]
    }
   ],
   "source": [
    "# 효율적인 화폐 구성\n",
    "'''\n",
    "N가지 종류 화폐\n",
    "합이 M이 되어야 함\n",
    "\n",
    "15를 2,3으로 만든다 -> 3 5개\n",
    "2원\n",
    "3원\n",
    "4원 n-num1 n-num2 2가지경우\n",
    "'''\n",
    "\n",
    "n, m = map(int, input().split())\n",
    "\n",
    "coin = []\n",
    "for i in range(n):\n",
    "    coin.append(int(input()))\n",
    "\n",
    "d = [10001] * (m+1)\n",
    "\n",
    "#for i in coin:\n",
    "#    d[i] = 1 # d[0]=0 하나로 충분하다.\n",
    "\n",
    "d[0] = 0 # !!!!!!!!!!!!!!!!!!!!!!!!!!!!!!!!!!!!!!!!!\n",
    "for i in range(0, m+1):\n",
    "    n1 = d[i-coin[0]]\n",
    "    n2 = d[i-coin[1]]\n",
    "    \n",
    "    d[i] = min(d[i], n1+1, n2+1)\n",
    "\n",
    "\n",
    "answer = d[m]\n",
    "if answer == 10001:\n",
    "    print(-1)\n",
    "else:\n",
    "    print(d[m])"
   ]
  }
 ],
 "metadata": {
  "kernelspec": {
   "display_name": "Python 3",
   "language": "python",
   "name": "python3"
  },
  "language_info": {
   "codemirror_mode": {
    "name": "ipython",
    "version": 3
   },
   "file_extension": ".py",
   "mimetype": "text/x-python",
   "name": "python",
   "nbconvert_exporter": "python",
   "pygments_lexer": "ipython3",
   "version": "3.8.5"
  }
 },
 "nbformat": 4,
 "nbformat_minor": 4
}
