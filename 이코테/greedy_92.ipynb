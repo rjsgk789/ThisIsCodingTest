{
 "cells": [
  {
   "cell_type": "code",
   "execution_count": 25,
   "metadata": {},
   "outputs": [
    {
     "name": "stdout",
     "output_type": "stream",
     "text": [
      "5 8 3\n",
      "2 4 5 4 6\n",
      "46.0\n",
      "0.0\n"
     ]
    }
   ],
   "source": [
    "# 큰 수의 법칙\n",
    "import time\n",
    "\n",
    "\n",
    "'''\n",
    "다양한 수의 배열을 받아 M번 더하여 가장 큰 수를 만드는 것\n",
    "단, 동일 인덱스의 숫자를 K번 초과하여 연속으로 더할 수 없음\n",
    "M >= K\n",
    "'''\n",
    "\n",
    "# N(배열 크기), M, K 입력받기\n",
    "N, M, K = map(int, input().split())\n",
    "# 배열 입력받기\n",
    "L = list(map(int, input().split()))\n",
    "\n",
    "# max1, max2 구하기\n",
    "L.sort(reverse = True)\n",
    "max1 = L[0]\n",
    "max2 = L[1]\n",
    "# max1 K번, max2 1번 반복 (총 M번) K+1\n",
    "answer = 0\n",
    "\n",
    "start_time = time.time()\n",
    "'''\n",
    "# 반복문 사용\n",
    "for i in range(M):\n",
    "    if i % (K+1) == K:\n",
    "        answer += max2\n",
    "    else:\n",
    "        answer += max1\n",
    "'''\n",
    "\n",
    "# 반복문 미사용 - 신박하네, 이게 훨씬 빠르지\n",
    "max2_count = M / (K+1)\n",
    "answer = max2_count * max2 + (M-max2_count) * max1\n",
    "\n",
    "\n",
    "\n",
    "end_time = time.time()\n",
    "print(answer)\n",
    "print(end_time - start_time)"
   ]
  }
 ],
 "metadata": {
  "kernelspec": {
   "display_name": "Python 3",
   "language": "python",
   "name": "python3"
  },
  "language_info": {
   "codemirror_mode": {
    "name": "ipython",
    "version": 3
   },
   "file_extension": ".py",
   "mimetype": "text/x-python",
   "name": "python",
   "nbconvert_exporter": "python",
   "pygments_lexer": "ipython3",
   "version": "3.8.5"
  }
 },
 "nbformat": 4,
 "nbformat_minor": 4
}
