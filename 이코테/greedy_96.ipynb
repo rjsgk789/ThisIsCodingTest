{
 "cells": [
  {
   "cell_type": "code",
   "execution_count": 17,
   "metadata": {},
   "outputs": [
    {
     "name": "stdout",
     "output_type": "stream",
     "text": [
      "2 4\n",
      "7 3 1 8\n",
      "3 3 3 4\n",
      "3\n",
      "16.471333026885986\n"
     ]
    }
   ],
   "source": [
    "import time\n",
    "# 숫자 카드 게임\n",
    "'''\n",
    "가장 낮은숫자가 제일 큰 행 찾기\n",
    "\n",
    "'''\n",
    "\n",
    "# 행 개수, 열 개수 입력받기\n",
    "N, M = map(int, input().split())\n",
    "\n",
    "# 행렬 숫자들 입력받기\n",
    "# 각 행의 min 모으기\n",
    "matrix = []\n",
    "mins = []\n",
    "## max = 0\n",
    "for i in range(N):\n",
    "    row = list(map(int, input().split()))\n",
    "    mins.append(min(row))\n",
    "    ## 윗 줄 대신 max(min(row), max)\n",
    "# 모은 min중 max 찾기\n",
    "answer = max(mins)\n",
    "\n",
    "print(answer)"
   ]
  }
 ],
 "metadata": {
  "kernelspec": {
   "display_name": "Python 3",
   "language": "python",
   "name": "python3"
  },
  "language_info": {
   "codemirror_mode": {
    "name": "ipython",
    "version": 3
   },
   "file_extension": ".py",
   "mimetype": "text/x-python",
   "name": "python",
   "nbconvert_exporter": "python",
   "pygments_lexer": "ipython3",
   "version": "3.8.5"
  }
 },
 "nbformat": 4,
 "nbformat_minor": 4
}
