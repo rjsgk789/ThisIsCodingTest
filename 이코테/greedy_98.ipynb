{
 "cells": [
  {
   "cell_type": "code",
   "execution_count": 6,
   "metadata": {},
   "outputs": [
    {
     "name": "stdout",
     "output_type": "stream",
     "text": [
      "64 4\n",
      "3\n"
     ]
    }
   ],
   "source": [
    "# N = N-1\n",
    "# N = N/K\n",
    "#둘중하나 해서 1로 만들기 (최소 횟수로)\n",
    "\n",
    "N, K = map(int, input().split())\n",
    "\n",
    "count = 0\n",
    "while(N>1):\n",
    "    if N<K:\n",
    "        count += N-1\n",
    "        break\n",
    "    namuge = N%K\n",
    "    if namuge==0:\n",
    "        N = N/K\n",
    "        count += 1\n",
    "    else:\n",
    "        #N = N-1\n",
    "        N = N-namuge\n",
    "        count += namuge # 1씩 여러번 빼야하는 반복을 줄이기 위해 나머지만큼 한번에 빼는 것임. (상당히 효율적이겠지)\n",
    "\n",
    "print(count)"
   ]
  }
 ],
 "metadata": {
  "kernelspec": {
   "display_name": "Python 3",
   "language": "python",
   "name": "python3"
  },
  "language_info": {
   "codemirror_mode": {
    "name": "ipython",
    "version": 3
   },
   "file_extension": ".py",
   "mimetype": "text/x-python",
   "name": "python",
   "nbconvert_exporter": "python",
   "pygments_lexer": "ipython3",
   "version": "3.8.5"
  }
 },
 "nbformat": 4,
 "nbformat_minor": 4
}
