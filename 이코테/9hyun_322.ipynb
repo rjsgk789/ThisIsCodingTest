{
 "cells": [
  {
   "cell_type": "code",
   "execution_count": 8,
   "metadata": {},
   "outputs": [
    {
     "name": "stdout",
     "output_type": "stream",
     "text": [
      "K1KA5CB7\n",
      "157ABCKK\n",
      "ABCKK13\n"
     ]
    }
   ],
   "source": [
    "# 문자열 재정렬\n",
    "'''\n",
    "알파벳, 숫자 섞여있는 문자열에서\n",
    "알파벳은 오름차순, 숫자는 다 더하기\n",
    "'''\n",
    "\n",
    "# 문자열 입력받기\n",
    "\n",
    "# 문자 숫자 분리? -> 157 KKACB\n",
    "\n",
    "# 숫자는 sum 하고\n",
    "\n",
    "# 문자는 정렬?\n",
    "\n",
    "\n",
    "\n",
    "\n",
    "'''\n",
    "string = 'BCA'\n",
    "string = list(string)\n",
    "print(string)\n",
    "string = ''.join(string)\n",
    "print(string)\n",
    "'''\n",
    "\n",
    "string = input()\n",
    "string = sorted(string)\n",
    "string = ''.join(string)\n",
    "\n",
    "summ = 0\n",
    "for i in range(len(string)):\n",
    "    if ord(string[i]) >= ord('A'):\n",
    "        answer = string[i:]\n",
    "        break\n",
    "    summ += int(string[i])\n",
    "\n",
    "answer += str(summ)    \n",
    "print(answer)\n",
    "\n",
    "\n",
    "'''\n",
    "~~.sort() 는 list에만 쓸 수 있는데\n",
    "sorted(~~) 는 list, string에 모두 사용 가능\n",
    "\n",
    "''.join(list) -> list를 string으로 join해줌\n",
    "chr -> ord의 반대\n",
    "'''"
   ]
  }
 ],
 "metadata": {
  "kernelspec": {
   "display_name": "Python 3",
   "language": "python",
   "name": "python3"
  },
  "language_info": {
   "codemirror_mode": {
    "name": "ipython",
    "version": 3
   },
   "file_extension": ".py",
   "mimetype": "text/x-python",
   "name": "python",
   "nbconvert_exporter": "python",
   "pygments_lexer": "ipython3",
   "version": "3.8.5"
  }
 },
 "nbformat": 4,
 "nbformat_minor": 4
}
