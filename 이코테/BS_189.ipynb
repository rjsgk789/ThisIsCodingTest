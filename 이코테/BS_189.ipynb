{
 "cells": [
  {
   "cell_type": "code",
   "execution_count": 1,
   "metadata": {},
   "outputs": [],
   "source": [
    "# 이진탐색 (재귀함수 구현)\n",
    "\n",
    "def binary_search(array, target, start, end):\n",
    "    if start>end:\n",
    "        return None\n",
    "    \n",
    "    mid = (start + end) // 2\n",
    "    \n",
    "    if array[mid] == target:\n",
    "        return mid\n",
    "    \n",
    "    elif array[mid] > target:\n",
    "        return binary_search(array, target, start, mid-1)\n",
    "    \n",
    "    else:\n",
    "        return binary_search(array, target, mid+1, end)\n",
    "    \n"
   ]
  },
  {
   "cell_type": "code",
   "execution_count": null,
   "metadata": {},
   "outputs": [],
   "source": [
    "# 이진탐색 (반복문 구현)\n",
    "\n",
    "def binary_search(array, target, start, end):\n",
    "    while start<=end:\n",
    "        mid = (start + end) // 2\n",
    "        \n",
    "        if array[mid] == target:\n",
    "            return mid\n",
    "        \n",
    "        elif array[mid] > target:\n",
    "            end = mid - 1\n",
    "        \n",
    "        else:\n",
    "            start = mid + 1\n",
    "        \n",
    "    return None\n",
    "\n"
   ]
  },
  {
   "cell_type": "code",
   "execution_count": 4,
   "metadata": {},
   "outputs": [
    {
     "name": "stdout",
     "output_type": "stream",
     "text": [
      "2\n",
      "3\n",
      "[100, 200, 300, 400, 500]\n"
     ]
    }
   ],
   "source": [
    "from bisect import bisect_left, bisect_right\n",
    "\n",
    "array = [100, 200, 300, 400, 500]\n",
    "a = bisect_left(array, 250)\n",
    "b = bisect_right(array, 300)\n",
    "\n",
    "print(a)\n",
    "print(b)\n",
    "print(array)"
   ]
  },
  {
   "cell_type": "code",
   "execution_count": 2,
   "metadata": {},
   "outputs": [
    {
     "data": {
      "text/plain": [
       "''"
      ]
     },
     "execution_count": 2,
     "metadata": {},
     "output_type": "execute_result"
    }
   ],
   "source": [
    "import sys\n",
    "\n",
    "input_data = sys.stdin.readline().rstrip()\n",
    "\n",
    "input_data"
   ]
  }
 ],
 "metadata": {
  "kernelspec": {
   "display_name": "Python 3",
   "language": "python",
   "name": "python3"
  },
  "language_info": {
   "codemirror_mode": {
    "name": "ipython",
    "version": 3
   },
   "file_extension": ".py",
   "mimetype": "text/x-python",
   "name": "python",
   "nbconvert_exporter": "python",
   "pygments_lexer": "ipython3",
   "version": "3.8.5"
  }
 },
 "nbformat": 4,
 "nbformat_minor": 4
}
