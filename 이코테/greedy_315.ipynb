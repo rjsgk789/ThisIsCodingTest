{
 "cells": [
  {
   "cell_type": "code",
   "execution_count": 11,
   "metadata": {},
   "outputs": [
    {
     "name": "stdout",
     "output_type": "stream",
     "text": [
      "8 5\n",
      "1 5 4 3 2 4 5 2\n",
      "25\n"
     ]
    }
   ],
   "source": [
    "# 볼링공 고르기\n",
    "'''\n",
    "N개의 볼링공 (1번, ... , N번)\n",
    "서로 다른 공으로 간주 (무게는 1~M 사이)\n",
    "\n",
    "두 사람이 서로 다른 무게의 볼링공을 고를 경우의 수??\n",
    "'''\n",
    "\n",
    "# 볼링공의 개수, 최대 무게를 입력받는다 (N, M)\n",
    "N, M = map(int, input().split())\n",
    "# 무게 각각 입력받기 (1 ~ M 사이의 자연수)\n",
    "weights = list(map(int, input().split()))\n",
    "# 무게 배열 정렬 1 2 2 3 3\n",
    "weights.sort()\n",
    "# 무게 배열 만큼 반복 i\n",
    "# i에서 배열 크기만큼 반복\n",
    "# 다르면 count+=1 break\n",
    "count = 0\n",
    "for i in range(N):\n",
    "    for j in range(i+1, N):\n",
    "        if weights[j] != weights[i]:\n",
    "            count += 1\n",
    "    \n",
    "print(count)"
   ]
  }
 ],
 "metadata": {
  "kernelspec": {
   "display_name": "Python 3",
   "language": "python",
   "name": "python3"
  },
  "language_info": {
   "codemirror_mode": {
    "name": "ipython",
    "version": 3
   },
   "file_extension": ".py",
   "mimetype": "text/x-python",
   "name": "python",
   "nbconvert_exporter": "python",
   "pygments_lexer": "ipython3",
   "version": "3.8.5"
  }
 },
 "nbformat": 4,
 "nbformat_minor": 4
}
