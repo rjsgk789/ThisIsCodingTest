{
 "cells": [
  {
   "cell_type": "code",
   "execution_count": null,
   "metadata": {},
   "outputs": [],
   "source": [
    "# 게임 개발\n",
    "'''\n",
    "'''\n",
    "\n",
    "# 현재 위치, 보는 방향 입력받기\n",
    "# 맵 입력받기\n",
    "'''\n",
    "nx = x + dx[direction]\n",
    "if ~~:\n",
    "    x = nx\n",
    "# 간다면 ~~할테니 괜찮으면 가라\n",
    "\n",
    "'''"
   ]
  }
 ],
 "metadata": {
  "kernelspec": {
   "display_name": "Python 3",
   "language": "python",
   "name": "python3"
  },
  "language_info": {
   "codemirror_mode": {
    "name": "ipython",
    "version": 3
   },
   "file_extension": ".py",
   "mimetype": "text/x-python",
   "name": "python",
   "nbconvert_exporter": "python",
   "pygments_lexer": "ipython3",
   "version": "3.8.5"
  }
 },
 "nbformat": 4,
 "nbformat_minor": 4
}
