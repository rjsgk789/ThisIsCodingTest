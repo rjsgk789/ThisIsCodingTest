{
 "cells": [
  {
   "cell_type": "code",
   "execution_count": 4,
   "metadata": {},
   "outputs": [
    {
     "name": "stdout",
     "output_type": "stream",
     "text": [
      "5\n",
      "7\n",
      "3 8\n",
      "8 1 0\n",
      "2 7 4 4\n",
      "4 5 2 6 5\n",
      "30\n"
     ]
    }
   ],
   "source": [
    "# 정수 삼각형\n",
    "\n",
    "n = int(input())\n",
    "dp = []\n",
    "for i in range(n):\n",
    "    dp.append(list(map(int, input().split())))\n",
    "\n",
    "for i in range(1, n): # (5층) 4층 3층 2층 1층\n",
    "    length = len(dp[i])\n",
    "    for j in range(length): # 각 층의 원소 수만큼 반복\n",
    "        if j==0:\n",
    "            dp[i][j] = dp[i-1][j] + dp[i][j]\n",
    "        elif j==length-1:\n",
    "            dp[i][j] = dp[i-1][j-1] + dp[i][j]\n",
    "        else:\n",
    "            dp[i][j] = max(dp[i-1][j-1]+dp[i][j], dp[i-1][j]+dp[i][j])\n",
    "\n",
    "print(max(dp[n-1]))"
   ]
  }
 ],
 "metadata": {
  "kernelspec": {
   "display_name": "Python 3",
   "language": "python",
   "name": "python3"
  },
  "language_info": {
   "codemirror_mode": {
    "name": "ipython",
    "version": 3
   },
   "file_extension": ".py",
   "mimetype": "text/x-python",
   "name": "python",
   "nbconvert_exporter": "python",
   "pygments_lexer": "ipython3",
   "version": "3.8.5"
  }
 },
 "nbformat": 4,
 "nbformat_minor": 4
}
