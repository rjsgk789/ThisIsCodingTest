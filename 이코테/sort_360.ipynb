{
 "cells": [
  {
   "cell_type": "code",
   "execution_count": 2,
   "metadata": {},
   "outputs": [
    {
     "name": "stdout",
     "output_type": "stream",
     "text": [
      "4\n",
      "5 1 7 9\n",
      "5\n"
     ]
    }
   ],
   "source": [
    "# 안테나\n",
    "'''\n",
    "특정 집 위치에 안테나 설치\n",
    "총 거리 최소가 되는 위치\n",
    "'''\n",
    "\n",
    "# 집의 수 N 입력받기\n",
    "# 집 위치 입력받기\n",
    "N = int(input())\n",
    "house = list(map(int, input().split()))\n",
    "# 집 위치 개수만큼 반복\n",
    "# 빼고 절댓값해서 더해\n",
    "# 이것처럼 할 수도 있지만 너의 대가리와 결합하여 더 간단하게 하자.\n",
    "# 집 위치 sort 한 다음에\n",
    "# 짝수면 가운데에서 작은값, 홀수면 가운데값 (4 -> idx=1, 5 -> idx=2)\n",
    "house.sort()\n",
    "print(house[ (N-1)//2 ])"
   ]
  }
 ],
 "metadata": {
  "kernelspec": {
   "display_name": "Python 3",
   "language": "python",
   "name": "python3"
  },
  "language_info": {
   "codemirror_mode": {
    "name": "ipython",
    "version": 3
   },
   "file_extension": ".py",
   "mimetype": "text/x-python",
   "name": "python",
   "nbconvert_exporter": "python",
   "pygments_lexer": "ipython3",
   "version": "3.8.5"
  }
 },
 "nbformat": 4,
 "nbformat_minor": 4
}
