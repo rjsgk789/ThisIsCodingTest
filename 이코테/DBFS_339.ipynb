{
 "cells": [
  {
   "cell_type": "code",
   "execution_count": 1,
   "metadata": {},
   "outputs": [
    {
     "name": "stdout",
     "output_type": "stream",
     "text": [
      "2\n",
      "3\n"
     ]
    }
   ],
   "source": [
    "# 특정 거리의 도시 찾기\n",
    "\n",
    "'''\n",
    "N개의 도시\n",
    "M개의 도로\n",
    "출발도시 X로부터 최단거리가 K인 도시 찾기\n",
    "'''\n",
    "\n",
    "n = 4\n",
    "m = 4\n",
    "k = 1\n",
    "x = 1\n",
    "\n",
    "link = [[], [2, 3], [3, 4], [], []]\n",
    "\n",
    "distance = [0] * (n+1)\n",
    "distance[x] = 0\n",
    "\n",
    "from collections import deque\n",
    "\n",
    "queue = deque()\n",
    "\n",
    "# queue에 시작점 넣고\n",
    "queue.append(x)\n",
    "# popleft해서 안에 들어있는 도시번호 queue에 넣고 distance 체크\n",
    "while queue:\n",
    "    now_num = queue.popleft()\n",
    "    now_link = link[now_num]\n",
    "    for i in range(len(now_link)):\n",
    "        queue.append(now_link[i])\n",
    "        # distance가 0일 때만 추가\n",
    "        if distance[now_link[i]]== 0:\n",
    "            distance[now_link[i]] = distance[now_num] + 1\n",
    "\n",
    "for i in range(len(distance)):\n",
    "    if distance[i] == k:\n",
    "        print(i)\n",
    "\n",
    "'''\n",
    "중요한게 어떻게 연결지점으로 넘어가느냐 인 것 같다\n",
    "'''"
   ]
  }
 ],
 "metadata": {
  "kernelspec": {
   "display_name": "Python 3",
   "language": "python",
   "name": "python3"
  },
  "language_info": {
   "codemirror_mode": {
    "name": "ipython",
    "version": 3
   },
   "file_extension": ".py",
   "mimetype": "text/x-python",
   "name": "python",
   "nbconvert_exporter": "python",
   "pygments_lexer": "ipython3",
   "version": "3.8.5"
  }
 },
 "nbformat": 4,
 "nbformat_minor": 4
}
