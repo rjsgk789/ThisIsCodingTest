{
 "cells": [
  {
   "cell_type": "code",
   "execution_count": 1,
   "metadata": {
    "scrolled": true
   },
   "outputs": [
    {
     "name": "stdout",
     "output_type": "stream",
     "text": [
      "xababcdcdababcdcd\n",
      "xababcdcdababcdcd\n",
      "xababcdcdababcdcd\n",
      "xababcdcdababcdcd\n",
      "xababcdcdababcdcd\n",
      "xababcdcdababcdcd\n",
      "xababcdcdababcdcd\n",
      "xababcdcdababcdcd\n",
      "xababcdcdababcdcd\n"
     ]
    }
   ],
   "source": [
    "'''\n",
    "문자열 압축\n",
    "\n",
    "자르는 단위 만큼 반복\n",
    "자르면서 이전과 같으면 count 늘리고 append 안해\n",
    "이전과 다르면 append하고 count 초기화\n",
    "'''\n",
    "\n",
    "string = input()\n",
    "\n",
    "# 자르는 단위\n",
    "cut = 1\n",
    "length = len(string)\n",
    "temp = ''\n",
    "answer_count = 100\n",
    "\n",
    "while(True):\n",
    "    if cut > length//2:\n",
    "        break\n",
    "    \n",
    "    count=1\n",
    "    last_count=1\n",
    "    answer = ''\n",
    "    for i in range(0, length, cut):\n",
    "        #if i+cut > length\n",
    "        now = string[i: i+cut]\n",
    "        if i==0:\n",
    "            pass\n",
    "        elif now == temp and i+cut!=length:\n",
    "            count+=1\n",
    "        else:\n",
    "            if now == temp:\n",
    "                count+=1\n",
    "            if count!=1:\n",
    "                answer += str(count)\n",
    "            answer += temp\n",
    "            last_count = count\n",
    "            count=1\n",
    "            \n",
    "        if last_count==1 and i+cut>=length:\n",
    "            answer += string[i:]\n",
    "        \n",
    "        temp = now\n",
    "    \n",
    "    print(answer)\n",
    "    answer_count = min(answer_count, len(answer))\n",
    "    cut += 1\n",
    "    \n",
    "print(answer_count)"
   ]
  },
  {
   "cell_type": "code",
   "execution_count": null,
   "metadata": {},
   "outputs": [],
   "source": []
  }
 ],
 "metadata": {
  "kernelspec": {
   "display_name": "Python 3",
   "language": "python",
   "name": "python3"
  },
  "language_info": {
   "codemirror_mode": {
    "name": "ipython",
    "version": 3
   },
   "file_extension": ".py",
   "mimetype": "text/x-python",
   "name": "python",
   "nbconvert_exporter": "python",
   "pygments_lexer": "ipython3",
   "version": "3.8.5"
  }
 },
 "nbformat": 4,
 "nbformat_minor": 4
}
