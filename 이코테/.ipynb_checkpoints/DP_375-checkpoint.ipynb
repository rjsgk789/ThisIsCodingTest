{
 "cells": [
  {
   "cell_type": "code",
   "execution_count": 24,
   "metadata": {},
   "outputs": [
    {
     "name": "stdout",
     "output_type": "stream",
     "text": [
      "2\n",
      "3 4\n",
      "1 3 3 2 2 1 4 1 0 6 4 7\n",
      "4 4\n",
      "1 3 1 5 2 2 4 1 5 0 2 3 0 6 1 2\n",
      "19\n",
      "16\n"
     ]
    }
   ],
   "source": [
    "# 금광\n",
    "'''\n",
    "0,k 까지의 최대\n",
    "1,k 까지의 최대\n",
    "...\n",
    "n-1,k 까지의 최대\n",
    "n,k 까지의 최대\n",
    "\n",
    "'''\n",
    "\n",
    "t = int(input()) # 전체를 몇번 실행할거냐\n",
    "\n",
    "answer = [0]*t\n",
    "for k in range(t):\n",
    "    n, m = map(int, input().split())\n",
    "\n",
    "    enter = list(map(int, input().split()))\n",
    "\n",
    "    maxx = []\n",
    "    for i in range(n):\n",
    "        maxx.append(enter[m*i: m*(i+1)])\n",
    "\n",
    "    # array[0][1]까지의 최대\n",
    "    # array[1][1]까지의 최대\n",
    "    # array[2][1]까지의 최대\n",
    "\n",
    "    #for i in range(n):\n",
    "    #    maxx[i][0] = array[i][0]\n",
    "\n",
    "    for j in range(1, m):\n",
    "        for i in range(n):\n",
    "            if i==0:\n",
    "                maxx[i][j] = max(maxx[i][j-1]+maxx[i][j], maxx[i+1][j-1]+maxx[i][j])\n",
    "            elif i==n-1:\n",
    "                maxx[i][j] = max(maxx[i-1][j-1]+maxx[i][j], maxx[i][j-1]+maxx[i][j])\n",
    "            else:\n",
    "                maxx[i][j] = max(maxx[i-1][j-1]+maxx[i][j], maxx[i][j-1]+maxx[i][j], maxx[i+1][j-1]+maxx[i][j])\n",
    "            # i의 인덱스 -1될 때, 최대+1될 때 고려해야함\n",
    "\n",
    "    result = 0\n",
    "    for i in range(n):\n",
    "        result = max(result, maxx[i][m-1])\n",
    "    answer[k] = result\n",
    "\n",
    "for i in answer:\n",
    "    print(i)"
   ]
  }
 ],
 "metadata": {
  "kernelspec": {
   "display_name": "Python 3",
   "language": "python",
   "name": "python3"
  },
  "language_info": {
   "codemirror_mode": {
    "name": "ipython",
    "version": 3
   },
   "file_extension": ".py",
   "mimetype": "text/x-python",
   "name": "python",
   "nbconvert_exporter": "python",
   "pygments_lexer": "ipython3",
   "version": "3.8.5"
  }
 },
 "nbformat": 4,
 "nbformat_minor": 4
}
