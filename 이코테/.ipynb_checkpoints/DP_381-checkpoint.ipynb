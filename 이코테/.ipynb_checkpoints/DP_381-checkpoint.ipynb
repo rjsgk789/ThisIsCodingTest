{
 "cells": [
  {
   "cell_type": "code",
   "execution_count": 15,
   "metadata": {},
   "outputs": [
    {
     "name": "stdout",
     "output_type": "stream",
     "text": [
      "11\n",
      "15\n"
     ]
    }
   ],
   "source": [
    "# 못생긴 수\n",
    "\n",
    "'''\n",
    "dp = [False] * 1001\n",
    "dp[1] = True\n",
    "\n",
    "for i in range(1001):\n",
    "    if i%2==0:\n",
    "        dp[i] = dp[i//2]\n",
    "    if i%3==0:\n",
    "        dp[i] = dp[i//3]\n",
    "    if i%5==0:\n",
    "        dp[i] = dp[i//5]\n",
    "\n",
    "want = int(input())\n",
    "count=0\n",
    "for i in range(1001):\n",
    "    if dp[i]==True:\n",
    "        count+=1\n",
    "    if count == want:\n",
    "        answer = i\n",
    "        break\n",
    "\n",
    "print(answer)\n",
    "'''\n",
    "\n",
    "'''\n",
    "n = int(input())\n",
    "\n",
    "dp = [0, 1]\n",
    "i=1\n",
    "while(True):\n",
    "    i+=1\n",
    "    if i%2==0 and i//2 in dp:\n",
    "        dp.append(i)\n",
    "    elif i%3==0 and i//3 in dp:\n",
    "        dp.append(i)\n",
    "    elif i%5==0 and i//5 in dp:\n",
    "        dp.append(i)\n",
    "    if len(dp) == n+1:\n",
    "        break\n",
    "\n",
    "\n",
    "print(dp[n])\n",
    "'''"
   ]
  },
  {
   "cell_type": "code",
   "execution_count": null,
   "metadata": {},
   "outputs": [],
   "source": []
  }
 ],
 "metadata": {
  "kernelspec": {
   "display_name": "Python 3",
   "language": "python",
   "name": "python3"
  },
  "language_info": {
   "codemirror_mode": {
    "name": "ipython",
    "version": 3
   },
   "file_extension": ".py",
   "mimetype": "text/x-python",
   "name": "python",
   "nbconvert_exporter": "python",
   "pygments_lexer": "ipython3",
   "version": "3.8.5"
  }
 },
 "nbformat": 4,
 "nbformat_minor": 4
}
