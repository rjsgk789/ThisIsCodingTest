{
 "cells": [
  {
   "cell_type": "code",
   "execution_count": 1,
   "metadata": {},
   "outputs": [
    {
     "name": "stdout",
     "output_type": "stream",
     "text": [
      "4\n",
      "1 3 1 5\n",
      "8\n"
     ]
    }
   ],
   "source": [
    "# 개미 전사\n",
    "'''\n",
    "n번쨰 창고를 보자\n",
    "\n",
    "만약 n-2번째까지의 최대와 n번째의 합이, n-1번째까지의 최대보다 크면\n",
    "n번째까지의 최대를 전자로 선택\n",
    "아니면 후자로\n",
    "'''\n",
    "\n",
    "n = int(input()) # 창고 개수\n",
    "changGo = list(map(int, input().split()))\n",
    "\n",
    "d = [0] * n\n",
    "\n",
    "d[0] = changGo[0]\n",
    "d[1] = max(changGo[0], changGo[1])\n",
    "\n",
    "for i in range(2, n):\n",
    "    d[i] = max(d[i-2]+changGo[i], d[i-1])\n",
    "\n",
    "print(d[n-1])"
   ]
  }
 ],
 "metadata": {
  "kernelspec": {
   "display_name": "Python 3",
   "language": "python",
   "name": "python3"
  },
  "language_info": {
   "codemirror_mode": {
    "name": "ipython",
    "version": 3
   },
   "file_extension": ".py",
   "mimetype": "text/x-python",
   "name": "python",
   "nbconvert_exporter": "python",
   "pygments_lexer": "ipython3",
   "version": "3.8.5"
  },
  "widgets": {
   "application/vnd.jupyter.widget-state+json": {
    "state": {},
    "version_major": 2,
    "version_minor": 0
   }
  }
 },
 "nbformat": 4,
 "nbformat_minor": 4
}
