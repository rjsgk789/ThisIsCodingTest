{
 "cells": [
  {
   "cell_type": "code",
   "execution_count": 11,
   "metadata": {},
   "outputs": [
    {
     "name": "stdout",
     "output_type": "stream",
     "text": [
      "4 6\n",
      "19 10 15 18\n",
      "15\n"
     ]
    }
   ],
   "source": [
    "# 떡볶이 떡 만들기\n",
    "'''\n",
    "적당한 높이 찾아\n",
    "'''\n",
    "\n",
    "def binary_search(array, target, start, end):\n",
    "    \n",
    "    while start<=end:\n",
    "        \n",
    "        mid = (start + end) // 2\n",
    "        \n",
    "        summ = 0\n",
    "        for i in array:\n",
    "            summ += max(i-mid, 0) # max의 속도?? if ~~>0: +=~~ 하는게 낫나?\n",
    "        \n",
    "        if summ == target:\n",
    "            return mid\n",
    "        \n",
    "        elif summ > target:\n",
    "            result = mid\n",
    "            start = mid + 1\n",
    "        \n",
    "        else:\n",
    "            end = mid - 1\n",
    "        \n",
    "    return result\n",
    "\n",
    "\n",
    "n, want = map(int, input().split())\n",
    "have = list(map(int, input().split()))\n",
    "\n",
    "# 잘랐을 때 남는 떡의 길이가 want보다 커지는 때를 찾아야 함.\n",
    "# 가진 떡 리스트 받고 원하는 길이 받아\n",
    "# max(array[i]-height, 0)의 sum   VS   want\n",
    "\n",
    "# 기존은 array에서 target을 찾는건데\n",
    "# 이거는 자연수 전체에서 target을 찾는 것\n",
    "\n",
    "answer = binary_search(have, want, 0, max(have))\n",
    "print(answer)"
   ]
  }
 ],
 "metadata": {
  "kernelspec": {
   "display_name": "Python 3",
   "language": "python",
   "name": "python3"
  },
  "language_info": {
   "codemirror_mode": {
    "name": "ipython",
    "version": 3
   },
   "file_extension": ".py",
   "mimetype": "text/x-python",
   "name": "python",
   "nbconvert_exporter": "python",
   "pygments_lexer": "ipython3",
   "version": "3.8.5"
  }
 },
 "nbformat": 4,
 "nbformat_minor": 4
}
