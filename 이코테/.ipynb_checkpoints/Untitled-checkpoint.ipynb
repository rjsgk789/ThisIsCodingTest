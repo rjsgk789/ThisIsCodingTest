{
 "cells": [
  {
   "cell_type": "code",
   "execution_count": 13,
   "metadata": {},
   "outputs": [
    {
     "name": "stdout",
     "output_type": "stream",
     "text": [
      "0.0468747615814209\n",
      "[]\n"
     ]
    }
   ],
   "source": [
    "a = [3, 8, 4, 5, 1, 2, 9, 7, 6, 3]\n",
    "b = []\n",
    "\n",
    "import time\n",
    "start_time = time.time()\n",
    "\n",
    "for i in range(100000):\n",
    "    c = max(a)\n",
    "    #b.append(i)\n",
    "    \n",
    "end_time = time.time()\n",
    "print(end_time-start_time)\n",
    "print(b)\n",
    "\n",
    "\n",
    "import time\n",
    "start_time = time.time()\n",
    "end_time = time.time()\n",
    "print(end_time-start_time)"
   ]
  },
  {
   "cell_type": "code",
   "execution_count": 14,
   "metadata": {},
   "outputs": [
    {
     "name": "stdout",
     "output_type": "stream",
     "text": [
      "124901254129512 5\n",
      "59.0\n"
     ]
    }
   ],
   "source": [
    "# N = N-1\n",
    "# N = N/K\n",
    "#둘중하나 해서 1로 만들기 (최소 횟수로)\n",
    "\n",
    "N, K = map(int, input().split())\n",
    "\n",
    "count = 0\n",
    "while(N>1):\n",
    "    if N<K:\n",
    "        count += N-1\n",
    "        break\n",
    "    namuge = N%K\n",
    "    if namuge==0:\n",
    "        N = N/K\n",
    "        count += 1\n",
    "    else:\n",
    "        #N = N-1\n",
    "        N = N-namuge\n",
    "        count += namuge # 1씩 여러번 빼야하는 반복을 줄이기 위해 나머지만큼 한번에 빼는 것임. (상당히 효율적이겠지)\n",
    "\n",
    "print(count)"
   ]
  },
  {
   "cell_type": "code",
   "execution_count": 1,
   "metadata": {},
   "outputs": [
    {
     "name": "stdout",
     "output_type": "stream",
     "text": [
      "123\n",
      "False\n"
     ]
    }
   ],
   "source": [
    "# 만들 수 없는 금액\n",
    "# 다 더해보고 1부터 쭈욱 올라가면서 없는거 찾아?\n",
    "# 다 더하는거 에바야 2 ^ N ㅋㅋㅋㅋㅋㅋ\n",
    "\n",
    "'''\n",
    "1 - 1\n",
    "2 - 1+1\n",
    "3 - 2+1 1+1+1\n",
    "4 - 3+1 2+2 2+1+1 1+1+1+1\n",
    "'''\n",
    "\n",
    "# 좋은 시도였지만 안타깝게도... pop을 할 수 있다면 모를까\n",
    "# num이 coin 안의 숫자들로 만들 수 있는지 알려주는 함수\n",
    "\n",
    "def isin(num, coin):\n",
    "    if num in coin:\n",
    "        return True\n",
    "    \n",
    "    # num 자체는 코인 안에 없으니 분리해서 알아봐야함\n",
    "    count = 0\n",
    "    while(True):\n",
    "        count+=1\n",
    "        if count > num//2:\n",
    "            break\n",
    "        if isin(num-count, coin) and isin(count, coin):\n",
    "            coin.remove(count)\n",
    "            coin.remove(num-count)\n",
    "            return True\n",
    "    \n",
    "    return False\n",
    "coin = list(map(int, input().split()))\n",
    "\n",
    "print(isin(8, coin))"
   ]
  },
  {
   "cell_type": "code",
   "execution_count": 2,
   "metadata": {},
   "outputs": [
    {
     "name": "stdout",
     "output_type": "stream",
     "text": [
      "12345\n",
      "12345\n",
      "2342\n",
      "23523\n",
      "23\n",
      "424\n",
      "242\n",
      "42\n",
      "24\n",
      "124\n",
      "[[1, 2, 3, 4, 5], [1, 2, 3, 4, 5], [2, 3, 4, 2], [2, 3, 5, 2, 3], [2, 3], [4, 2, 4], [2, 4, 2], [4, 2], [2, 4], [1, 2, 4]]\n"
     ]
    }
   ],
   "source": [
    "graph = []\n",
    "for i in range(10):\n",
    "    graph.append(list(map(int, input())))\n",
    "    \n",
    "print(graph)"
   ]
  },
  {
   "cell_type": "code",
   "execution_count": 5,
   "metadata": {},
   "outputs": [
    {
     "name": "stdout",
     "output_type": "stream",
     "text": [
      "[[3, 0, 5, 0, 7, 0], [2, 3, 4, 5, 6, 7], [0, 0, 0, 0, 0, 8], [14, 13, 12, 11, 10, 9], [15, 14, 13, 12, 11, 10]]\n",
      "10\n"
     ]
    }
   ],
   "source": [
    "from collections import deque\n",
    "\n",
    "n, m = 5, 6\n",
    "graph = [\n",
    "    [1,0,1,0,1,0],\n",
    "    [1,1,1,1,1,1],\n",
    "    [0,0,0,0,0,1],\n",
    "    [1,1,1,1,1,1],\n",
    "    [1,1,1,1,1,1],\n",
    "]\n",
    "\n",
    "dx = [-1, 1, 0, 0]\n",
    "dy = [0, 0, -1, 1]\n",
    "\n",
    "def bfs(x, y):\n",
    "    queue = deque()\n",
    "    queue.append((x, y))\n",
    "    \n",
    "    while queue:\n",
    "        x, y = queue.popleft()\n",
    "        \n",
    "        for i in range(4):\n",
    "            nx = x + dx[i]\n",
    "            ny = y + dy[i]\n",
    "            \n",
    "            if nx<0 or ny<0 or nx>=n or ny>=m:\n",
    "                continue\n",
    "            \n",
    "            if graph[nx][ny] == 0:\n",
    "                continue\n",
    "            \n",
    "            if graph[nx][ny] == 1:\n",
    "                graph[nx][ny] = graph[x][y] + 1\n",
    "                queue.append((nx, ny))\n",
    "    \n",
    "    print(graph) # 시작이 3이 됨\n",
    "    return graph[n-1][m-1]\n",
    "\n",
    "\n",
    "print(bfs(0, 0))"
   ]
  },
  {
   "cell_type": "code",
   "execution_count": 10,
   "metadata": {
    "scrolled": false
   },
   "outputs": [
    {
     "name": "stdout",
     "output_type": "stream",
     "text": [
      "<itertools.combinations object at 0x000001365E472F40>\n",
      "<map object at 0x000001365E47AD60>\n",
      "['123', '124', '134', '234']\n",
      "(1, 2, 3)\n",
      "(1, 2, 4)\n",
      "(1, 3, 4)\n",
      "(2, 3, 4)\n"
     ]
    }
   ],
   "source": [
    "'''\n",
    "조합 모든 경우의 수 만들기\n",
    "'''\n",
    "\n",
    "from itertools import combinations\n",
    "\n",
    "items = ['1', '2', '3', '4']\n",
    "\n",
    "print(combinations(items, 3))\n",
    "print(map(''.join, combinations(items, 3)))\n",
    "print(list(map(''.join, combinations(items, 3))))\n",
    "\n",
    "nums = [1, 2, 3, 4]\n",
    "for i in combinations(nums, 3):\n",
    "    print(i)"
   ]
  },
  {
   "cell_type": "code",
   "execution_count": 12,
   "metadata": {},
   "outputs": [],
   "source": [
    "\n",
    "n, m = 7, 7\n",
    "\n",
    "virus = [\n",
    "    [2,0,0,0,1,1,0],\n",
    "    [0,0,1,0,1,2,0],\n",
    "    [0,1,1,0,1,0,0],\n",
    "    [0,1,0,0,0,0,0],\n",
    "    [0,0,0,0,0,1,1],\n",
    "    [0,1,0,0,0,0,0],\n",
    "    [0,1,0,0,0,0,0]\n",
    "]\n",
    "\n",
    "from itertools import combinations\n",
    "\n",
    "empty = []\n",
    "\n",
    "# 0인 좌표를 구해서 리스트에 append한다\n",
    "for i in range(n):\n",
    "    for j in range(m):\n",
    "        if virus[i][j] == 0:\n",
    "            empty.append((i, j))\n",
    "\n",
    "# 그 중 3개를 뽑는 조합 안에서 1로 만든다\n",
    "for i in combinations(empty, 3):\n",
    "    for j in range(3):\n",
    "        pick = i[j]\n",
    "        virus[pick[0]][pick[1]] = 1\n",
    "        "
   ]
  },
  {
   "cell_type": "code",
   "execution_count": 4,
   "metadata": {},
   "outputs": [],
   "source": [
    "import sys\n",
    "\n",
    "data = sys.stdin.readline().rstrip()\n",
    "\n",
    "print(data)\n",
    "\n",
    "'''\n",
    "왜안되누\n",
    "'''"
   ]
  },
  {
   "cell_type": "code",
   "execution_count": 5,
   "metadata": {},
   "outputs": [
    {
     "name": "stdout",
     "output_type": "stream",
     "text": [
      "정답은 7입니다.\n"
     ]
    }
   ],
   "source": [
    "answer = 7\n",
    "\n",
    "print(f'정답은 {answer}입니다.')"
   ]
  },
  {
   "cell_type": "code",
   "execution_count": 9,
   "metadata": {},
   "outputs": [
    {
     "name": "stdout",
     "output_type": "stream",
     "text": [
      "[('a', 2), ('b', 1), ('b', 3)]\n"
     ]
    }
   ],
   "source": [
    "result = [('b', 1), ('b', 3), ('a', 2)]\n",
    "result.sort(key = lambda x: x[0])\n",
    "\n",
    "print(result)"
   ]
  }
 ],
 "metadata": {
  "kernelspec": {
   "display_name": "Python 3",
   "language": "python",
   "name": "python3"
  },
  "language_info": {
   "codemirror_mode": {
    "name": "ipython",
    "version": 3
   },
   "file_extension": ".py",
   "mimetype": "text/x-python",
   "name": "python",
   "nbconvert_exporter": "python",
   "pygments_lexer": "ipython3",
   "version": "3.8.5"
  }
 },
 "nbformat": 4,
 "nbformat_minor": 4
}
