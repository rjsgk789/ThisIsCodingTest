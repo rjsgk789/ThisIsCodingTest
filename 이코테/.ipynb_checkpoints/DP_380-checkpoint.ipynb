{
 "cells": [
  {
   "cell_type": "code",
   "execution_count": 16,
   "metadata": {},
   "outputs": [
    {
     "name": "stdout",
     "output_type": "stream",
     "text": [
      "7\n",
      "15 11 4 3 8 6 5\n",
      "[15, 11, 8, 6, 5]\n",
      "2\n"
     ]
    }
   ],
   "source": [
    "# 병사 배치하기\n",
    "'''\n",
    "너무쉬운데\n",
    "'''\n",
    "\n",
    "n = int(input())\n",
    "\n",
    "bs = list(map(int, input().split()))\n",
    "\n",
    "i=-1\n",
    "count=0\n",
    "while(True):\n",
    "    i+=1\n",
    "    if i==len(bs)-1:\n",
    "        break\n",
    "    \n",
    "    if bs[i]>=bs[i+1]:\n",
    "        continue\n",
    "    else:\n",
    "        bs.pop(i)\n",
    "        i=-1\n",
    "        count+=1\n",
    "\n",
    "print(bs)\n",
    "print(count)\n",
    "\n",
    "'''\n",
    "시간복잡도가 될지 모르겠다\n",
    "'''"
   ]
  }
 ],
 "metadata": {
  "kernelspec": {
   "display_name": "Python 3",
   "language": "python",
   "name": "python3"
  },
  "language_info": {
   "codemirror_mode": {
    "name": "ipython",
    "version": 3
   },
   "file_extension": ".py",
   "mimetype": "text/x-python",
   "name": "python",
   "nbconvert_exporter": "python",
   "pygments_lexer": "ipython3",
   "version": "3.8.5"
  }
 },
 "nbformat": 4,
 "nbformat_minor": 4
}
