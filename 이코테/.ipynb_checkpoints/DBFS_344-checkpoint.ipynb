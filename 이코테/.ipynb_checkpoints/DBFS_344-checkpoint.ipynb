{
 "cells": [
  {
   "cell_type": "code",
   "execution_count": 8,
   "metadata": {},
   "outputs": [
    {
     "name": "stdout",
     "output_type": "stream",
     "text": [
      "3 3\n",
      "1 0 2\n",
      "0 0 0\n",
      "3 0 0\n",
      "1 2 2\n",
      "[[0, 0, 0], [0, 0, 0], [0, 0, 0]]\n",
      "[[1, 1, 0], [1, 0, 0], [0, 0, 0]]\n",
      "[[1, 1, 2], [1, 0, 2], [0, 0, 0]]\n",
      "[[1, 1, 2], [1, 0, 2], [3, 3, 0]]\n"
     ]
    }
   ],
   "source": [
    "# 경쟁적 전염\n",
    "'''\n",
    "\n",
    "'''\n",
    "\n",
    "# n : 칸 가로세로 길이, k : 바이러스 개수\n",
    "n, k = map(int, input().split())\n",
    "\n",
    "array = []\n",
    "for i in range(n):\n",
    "    array.append(list(map(int, input().split())))\n",
    "\n",
    "s, x, y = map(int, input().split())\n",
    "\n",
    "'''\n",
    "1주변 0이면 1로\n",
    "2주변 0이면 2로\n",
    "3주변 0이면 3으로\n",
    "총 s번 반복\n",
    "'''\n",
    "dx = [0, 0, -1, 1]\n",
    "dy = [-1, 1, 0, 0]\n",
    "\n",
    "\n",
    "answer = [[0] * n for _ in range(n)]\n",
    "\n",
    "for _ in range(s):\n",
    "    for virus in range(1, k+1):\n",
    "        print(answer)\n",
    "        for i in range(n):\n",
    "            for j in range(n):\n",
    "                if array[i][j] == virus:\n",
    "                    answer[i][j] = virus\n",
    "                    for a in range(4):\n",
    "                        x = i+dx[a]\n",
    "                        y = j+dy[a]\n",
    "                        if x<0 or y<0 or x>=n or y>=n:\n",
    "                            continue\n",
    "                        if answer[x][y] == 0:\n",
    "                            answer[x][y] = virus\n",
    "    for i in range(n):\n",
    "        for j in range(n):\n",
    "            array[i][j] = answer[i][j]\n",
    "\n",
    "print(answer)"
   ]
  }
 ],
 "metadata": {
  "kernelspec": {
   "display_name": "Python 3",
   "language": "python",
   "name": "python3"
  },
  "language_info": {
   "codemirror_mode": {
    "name": "ipython",
    "version": 3
   },
   "file_extension": ".py",
   "mimetype": "text/x-python",
   "name": "python",
   "nbconvert_exporter": "python",
   "pygments_lexer": "ipython3",
   "version": "3.8.5"
  }
 },
 "nbformat": 4,
 "nbformat_minor": 4
}
