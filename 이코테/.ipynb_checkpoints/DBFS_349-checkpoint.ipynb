{
 "cells": [
  {
   "cell_type": "code",
   "execution_count": 20,
   "metadata": {},
   "outputs": [
    {
     "name": "stdout",
     "output_type": "stream",
     "text": [
      "6\n",
      "1 2 3 4 5 6\n",
      "2 1 1 1\n",
      "54\n",
      "-24\n"
     ]
    }
   ],
   "source": [
    "# 연산자 끼워 넣기\n",
    "'''\n",
    "N개의 수\n",
    "N-1개의 연산자\n",
    "\n",
    "숫자들은 그 위치 그대로, 모든 경우의 수 계산해서 최댓값 최솟값 구하기.\n",
    "우선순위 무시하고 앞에서부터\n",
    "'''\n",
    "\n",
    "from itertools import permutations\n",
    "\n",
    "\n",
    "n = int(input())\n",
    "nums = list(map(int, input().split()))\n",
    "giho = list(map(int, input().split()))\n",
    "\n",
    "giho_total = []\n",
    "temp = ['+', '-', '*', '/']\n",
    "\n",
    "for i in range(4):\n",
    "    for j in range(giho[i]):\n",
    "        giho_total.append(temp[i])\n",
    "\n",
    "# conbination으로\n",
    "max_num = -100\n",
    "min_num = 100\n",
    "\n",
    "for i in permutations(giho_total, n-1):\n",
    "    a = nums[0]\n",
    "    for j in range(n-1):\n",
    "        b = nums[j+1]\n",
    "        if i[j]=='+':\n",
    "            a = a+b\n",
    "        if i[j]=='-':\n",
    "            a = a-b\n",
    "        if i[j]=='*':\n",
    "            a = a*b\n",
    "        if i[j]=='/':\n",
    "            if a<0:\n",
    "                a = -a\n",
    "                a = a//b\n",
    "                a = -a\n",
    "            else:\n",
    "                a = a//b\n",
    "    \n",
    "    if a > max_num:\n",
    "        max_num = a\n",
    "    if a < min_num:\n",
    "        min_num = a\n",
    "\n",
    "        \n",
    "print(max_num)\n",
    "print(min_num)"
   ]
  },
  {
   "cell_type": "code",
   "execution_count": 21,
   "metadata": {},
   "outputs": [
    {
     "ename": "TypeError",
     "evalue": "'int' object is not iterable",
     "output_type": "error",
     "traceback": [
      "\u001b[1;31m---------------------------------------------------------------------------\u001b[0m",
      "\u001b[1;31mTypeError\u001b[0m                                 Traceback (most recent call last)",
      "\u001b[1;32m<ipython-input-21-6a019f3030d5>\u001b[0m in \u001b[0;36m<module>\u001b[1;34m\u001b[0m\n\u001b[0;32m      2\u001b[0m \u001b[1;33m\u001b[0m\u001b[0m\n\u001b[0;32m      3\u001b[0m \u001b[0mn\u001b[0m \u001b[1;33m=\u001b[0m \u001b[1;36m4\u001b[0m\u001b[1;33m\u001b[0m\u001b[1;33m\u001b[0m\u001b[0m\n\u001b[1;32m----> 4\u001b[1;33m \u001b[0mprint\u001b[0m\u001b[1;33m(\u001b[0m\u001b[0mlist\u001b[0m\u001b[1;33m(\u001b[0m\u001b[0mproduct\u001b[0m\u001b[1;33m(\u001b[0m\u001b[1;33m[\u001b[0m\u001b[1;34m'+'\u001b[0m\u001b[1;33m,\u001b[0m \u001b[1;34m'-'\u001b[0m\u001b[1;33m,\u001b[0m \u001b[1;34m'*'\u001b[0m\u001b[1;33m,\u001b[0m \u001b[1;34m'/'\u001b[0m\u001b[1;33m]\u001b[0m\u001b[1;33m,\u001b[0m \u001b[0mn\u001b[0m\u001b[1;33m-\u001b[0m\u001b[1;36m1\u001b[0m\u001b[1;33m)\u001b[0m\u001b[1;33m)\u001b[0m\u001b[1;33m)\u001b[0m\u001b[1;33m\u001b[0m\u001b[1;33m\u001b[0m\u001b[0m\n\u001b[0m",
      "\u001b[1;31mTypeError\u001b[0m: 'int' object is not iterable"
     ]
    }
   ],
   "source": [
    "from itertools import product\n",
    "\n",
    "n = 4\n",
    "print(list(product(['+', '-', '*', '/'], repeat=(n-1)))"
   ]
  }
 ],
 "metadata": {
  "kernelspec": {
   "display_name": "Python 3",
   "language": "python",
   "name": "python3"
  },
  "language_info": {
   "codemirror_mode": {
    "name": "ipython",
    "version": 3
   },
   "file_extension": ".py",
   "mimetype": "text/x-python",
   "name": "python",
   "nbconvert_exporter": "python",
   "pygments_lexer": "ipython3",
   "version": "3.8.5"
  }
 },
 "nbformat": 4,
 "nbformat_minor": 4
}
