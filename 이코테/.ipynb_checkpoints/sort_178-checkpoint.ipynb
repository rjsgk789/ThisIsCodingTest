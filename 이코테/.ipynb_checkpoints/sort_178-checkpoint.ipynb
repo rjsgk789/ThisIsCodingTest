{
 "cells": [
  {
   "cell_type": "code",
   "execution_count": 2,
   "metadata": {},
   "outputs": [
    {
     "name": "stdout",
     "output_type": "stream",
     "text": [
      "3\n",
      "15\n",
      "27\n",
      "12\n",
      "27 15 12 "
     ]
    }
   ],
   "source": [
    "# 위에서 아래로\n",
    "\n",
    "n = int(input())\n",
    "\n",
    "list1 = []\n",
    "for i in range(n):\n",
    "    num = int(input())\n",
    "    list1.append(num)\n",
    "\n",
    "list1.sort(reverse = True)\n",
    "\n",
    "for i in list1:\n",
    "    print(i, end=' ')"
   ]
  }
 ],
 "metadata": {
  "kernelspec": {
   "display_name": "Python 3",
   "language": "python",
   "name": "python3"
  },
  "language_info": {
   "codemirror_mode": {
    "name": "ipython",
    "version": 3
   },
   "file_extension": ".py",
   "mimetype": "text/x-python",
   "name": "python",
   "nbconvert_exporter": "python",
   "pygments_lexer": "ipython3",
   "version": "3.8.5"
  }
 },
 "nbformat": 4,
 "nbformat_minor": 4
}
