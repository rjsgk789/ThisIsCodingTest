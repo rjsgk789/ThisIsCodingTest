{
 "cells": [
  {
   "cell_type": "code",
   "execution_count": null,
   "metadata": {},
   "outputs": [],
   "source": [
    "# 부품 찾기\n",
    "'''\n",
    "N개의 부품 고유번호\n",
    "M개의 부품요청\n",
    "\n",
    "다 있으면 yes 아니면 no 출력\n",
    "'''\n",
    "\n",
    "def binary_search(array, target, start, end):\n",
    "    while start<=end:\n",
    "        mid = (start + end) // 2\n",
    "        \n",
    "        if array[mid] == target:\n",
    "            return mid\n",
    "        \n",
    "        elif array[mid] > target:\n",
    "            end = mid - 1\n",
    "        \n",
    "        else:\n",
    "            start = mid + 1\n",
    "        \n",
    "    return None\n",
    "\n",
    "\n",
    "n = int(input())\n",
    "have = list(map(int, input().split()))\n",
    "\n",
    "m = int(input())\n",
    "want = list(map(int, input().split()))\n",
    "\n",
    "have.sort()\n",
    "\n",
    "for i in want:\n",
    "    answer = binary_search(have, i, 0, n-1)\n",
    "    if answer == None:\n",
    "        print('no', end=' ')\n",
    "    else:\n",
    "        print('yes', end=' ')\n",
    "        \n",
    "'''\n",
    "이진탐색 라이브러리 없나??\n",
    "'''"
   ]
  },
  {
   "cell_type": "code",
   "execution_count": 2,
   "metadata": {},
   "outputs": [
    {
     "name": "stdout",
     "output_type": "stream",
     "text": [
      "5\n",
      "8 3 7 9 2\n",
      "3\n",
      "5 7 9\n",
      "no yes yes "
     ]
    }
   ],
   "source": [
    "from bisect import bisect_left\n",
    "\n",
    "n = int(input())\n",
    "have = list(map(int, input().split()))\n",
    "\n",
    "m = int(input())\n",
    "want = list(map(int, input().split()))\n",
    "\n",
    "have.sort()\n",
    "\n",
    "for i in want:\n",
    "    if have[bisect_left(have, i)] == i:\n",
    "        print('yes', end=' ')\n",
    "    else:\n",
    "        print('no', end=' ')\n",
    "\n",
    "'''\n",
    "있네\n",
    "'''"
   ]
  }
 ],
 "metadata": {
  "kernelspec": {
   "display_name": "Python 3",
   "language": "python",
   "name": "python3"
  },
  "language_info": {
   "codemirror_mode": {
    "name": "ipython",
    "version": 3
   },
   "file_extension": ".py",
   "mimetype": "text/x-python",
   "name": "python",
   "nbconvert_exporter": "python",
   "pygments_lexer": "ipython3",
   "version": "3.8.5"
  }
 },
 "nbformat": 4,
 "nbformat_minor": 4
}
