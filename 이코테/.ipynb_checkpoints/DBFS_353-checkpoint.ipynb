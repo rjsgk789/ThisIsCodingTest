{
 "cells": [
  {
   "cell_type": "code",
   "execution_count": null,
   "metadata": {},
   "outputs": [],
   "source": [
    "# 인구 이동\n",
    "'''\n",
    "N * N -> 한칸에 나라 하나씩\n",
    "A[r][c] -> 해당 나라의 인구수\n",
    "\n",
    "국경선의 개방 여부 파악. (dfs로 인구차이가 L이상 R이하면 들어가기.)\n",
    "인구이동 시작\n",
    "    연합 파악\n",
    "    각 나라의 인구수 = 연합의 총 인구수 / 연합 나라의 수 (소수점 버림)\n",
    "    연합 끝~\n",
    "'''"
   ]
  }
 ],
 "metadata": {
  "kernelspec": {
   "display_name": "Python 3",
   "language": "python",
   "name": "python3"
  },
  "language_info": {
   "codemirror_mode": {
    "name": "ipython",
    "version": 3
   },
   "file_extension": ".py",
   "mimetype": "text/x-python",
   "name": "python",
   "nbconvert_exporter": "python",
   "pygments_lexer": "ipython3",
   "version": "3.8.5"
  }
 },
 "nbformat": 4,
 "nbformat_minor": 4
}
