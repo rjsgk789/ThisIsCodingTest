{
 "cells": [
  {
   "cell_type": "code",
   "execution_count": 2,
   "metadata": {},
   "outputs": [
    {
     "name": "stdout",
     "output_type": "stream",
     "text": [
      "13.0\n",
      "12.0\n",
      "4.0\n",
      "2.0\n",
      "1.0\n",
      "5\n"
     ]
    }
   ],
   "source": [
    "# 1로 만들기\n",
    "'''\n",
    "다이나믹 프로그래밍 -> 큰 문제가 작은 문제로 나누어 질 때, 같은 상황의 반복이 일어날 때\n",
    "'''\n",
    "x = 26\n",
    "count=0\n",
    "\n"
   ]
  }
 ],
 "metadata": {
  "kernelspec": {
   "display_name": "Python 3",
   "language": "python",
   "name": "python3"
  },
  "language_info": {
   "codemirror_mode": {
    "name": "ipython",
    "version": 3
   },
   "file_extension": ".py",
   "mimetype": "text/x-python",
   "name": "python",
   "nbconvert_exporter": "python",
   "pygments_lexer": "ipython3",
   "version": "3.8.5"
  }
 },
 "nbformat": 4,
 "nbformat_minor": 4
}
