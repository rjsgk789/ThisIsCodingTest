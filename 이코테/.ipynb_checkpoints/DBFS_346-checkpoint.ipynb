{
 "cells": [
  {
   "cell_type": "code",
   "execution_count": 13,
   "metadata": {},
   "outputs": [
    {
     "name": "stdout",
     "output_type": "stream",
     "text": [
      "()))((()\n",
      "()(())()\n"
     ]
    }
   ],
   "source": [
    "# 괄호 변환\n",
    "\n",
    "'''\n",
    "개수 같음 -> 균형잡힌 괄호 문자열\n",
    "짝도 맞음 -> 올바른 괄호 문자열\n",
    "\n",
    "균형잡힌 문자열을 올바른 문자열로 바꾸는 문제.\n",
    "'''\n",
    "\n",
    "def toRight(string):\n",
    "    if string=='':\n",
    "        return ''\n",
    "    \n",
    "    # 균형잡힌 문자열 2개로 나눠야 함\n",
    "    check=0\n",
    "    before = ''\n",
    "    after = ''\n",
    "    for i in range(len(string)):\n",
    "        if string[i]=='(':\n",
    "            check+=1\n",
    "        else:\n",
    "            check-=1\n",
    "        \n",
    "        if check==0:\n",
    "            before = string[: i+1]\n",
    "            after = string[i+1:]\n",
    "            break\n",
    "    \n",
    "    \n",
    "    check2=0\n",
    "    isRight=True\n",
    "    for i in range(len(before)):\n",
    "        if before[i]=='(':\n",
    "            check2+=1\n",
    "        else:\n",
    "            check2-=1\n",
    "        if check2<0:\n",
    "            isRight=False\n",
    "    \n",
    "    if isRight==True:\n",
    "        return before + toRight(after)\n",
    "    else:\n",
    "        temp = '('\n",
    "        temp += toRight(after)\n",
    "        temp += ')'\n",
    "        \n",
    "        for i in before[1: len(before)-1]:\n",
    "            if i=='(':\n",
    "                temp += ')'\n",
    "            else:\n",
    "                temp += '('\n",
    "        return temp\n",
    "    \n",
    "        \n",
    "string = input()\n",
    "\n",
    "print(toRight(string))"
   ]
  },
  {
   "cell_type": "code",
   "execution_count": null,
   "metadata": {},
   "outputs": [],
   "source": []
  }
 ],
 "metadata": {
  "kernelspec": {
   "display_name": "Python 3",
   "language": "python",
   "name": "python3"
  },
  "language_info": {
   "codemirror_mode": {
    "name": "ipython",
    "version": 3
   },
   "file_extension": ".py",
   "mimetype": "text/x-python",
   "name": "python",
   "nbconvert_exporter": "python",
   "pygments_lexer": "ipython3",
   "version": "3.8.5"
  }
 },
 "nbformat": 4,
 "nbformat_minor": 4
}
