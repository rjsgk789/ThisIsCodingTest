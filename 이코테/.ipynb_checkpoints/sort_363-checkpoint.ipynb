{
 "cells": [
  {
   "cell_type": "code",
   "execution_count": 7,
   "metadata": {
    "scrolled": true
   },
   "outputs": [
    {
     "name": "stdout",
     "output_type": "stream",
     "text": [
      "4\n",
      "40\n",
      "50\n",
      "60\n",
      "70\n",
      "440\n"
     ]
    }
   ],
   "source": [
    "# 카드 정렬하기\n",
    "'''\n",
    "a b c\n",
    "\n",
    "a+b + (a+b+c)\n",
    "\n",
    "b+c + (b+c+a)\n",
    "\n",
    "40 50 60 70\n",
    "\n",
    "\n",
    "'''\n",
    "\n",
    "n = int(input())\n",
    "nums = []\n",
    "answer = 0\n",
    "\n",
    "for i in range(n):\n",
    "    nums.append(int(input()))\n",
    "\n",
    "while(True):\n",
    "    nums.sort()\n",
    "    \n",
    "    now = nums[0] + nums[1]\n",
    "    answer += now\n",
    "    nums.pop(0)\n",
    "    nums.pop(0)\n",
    "    nums.append(now)\n",
    "    \n",
    "    if len(nums) <= 1:\n",
    "        break\n",
    "\n",
    "print(answer)"
   ]
  },
  {
   "cell_type": "code",
   "execution_count": 22,
   "metadata": {
    "scrolled": true
   },
   "outputs": [
    {
     "name": "stdout",
     "output_type": "stream",
     "text": [
      "4\n",
      "70\n",
      "60\n",
      "50\n",
      "40\n",
      "[40, 50, 60, 70]\n",
      "440\n"
     ]
    }
   ],
   "source": [
    "'''\n",
    "heap은 알아서 정렬이 됨????\n",
    "'''\n",
    "\n",
    "import heapq\n",
    "\n",
    "n = int(input())\n",
    "\n",
    "heap = []\n",
    "for i in range(n):\n",
    "    data = int(input())\n",
    "    heapq.heappush(heap, data)\n",
    "print(heap)\n",
    "result = 0\n",
    "\n",
    "while len(heap) != 1:\n",
    "    one = heapq.heappop(heap)\n",
    "    two = heapq.heappop(heap)\n",
    "    \n",
    "    sum_value = one + two\n",
    "    result += sum_value\n",
    "    heapq.heappush(heap, sum_value)\n",
    "\n",
    "print(result)"
   ]
  }
 ],
 "metadata": {
  "kernelspec": {
   "display_name": "Python 3",
   "language": "python",
   "name": "python3"
  }
 },
 "nbformat": 4,
 "nbformat_minor": 4
}
