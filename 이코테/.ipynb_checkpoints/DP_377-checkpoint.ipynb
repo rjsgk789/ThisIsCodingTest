{
 "cells": [
  {
   "cell_type": "code",
   "execution_count": 32,
   "metadata": {},
   "outputs": [
    {
     "name": "stdout",
     "output_type": "stream",
     "text": [
      "7\n",
      "3 10\n",
      "5 20\n",
      "1 10\n",
      "1 20\n",
      "2 15\n",
      "4 40\n",
      "2 200\n",
      "[0, 0, 0, 10, 30, 30, 45, 45]\n"
     ]
    }
   ],
   "source": [
    "# 퇴사\n",
    "'''\n",
    "N-1일에 비교해서 N일일 때 달라지는 점 : 완료할 수 있는 일이 새로 생겼는가\n",
    "새로 생겼다면, N-1일의 최대 vs N-T일의 최대 + T의 일\n",
    "dp : 각 일의 최대 수익을 담은 리스트\n",
    "dp(x-1) dp(x-t)+p\n",
    "\n",
    "완료할 수 있는 일을 가려내는 방법? 다해보기\n",
    "for day in range(1: n+1):\n",
    "    if day - t[day] == 0\n",
    "        max(dp(day-1), dp(day-t[day])+p[day])\n",
    "'''\n",
    "\n",
    "# n 입력받기 (총 n일)\n",
    "n = int(input())\n",
    "\n",
    "dp = [0] * (n+1) # 1일 - dp[1], n일 - dp[n]\n",
    "t = [0] * (n+1)\n",
    "p = [0] * (n+1)\n",
    "for i in range(n):\n",
    "    t[i+1], p[i+1] = map(int, input().split())\n",
    "\n",
    "# t - 걸리는 시간\n",
    "# p - 받는 돈\n",
    "\n",
    "for day in range(1, n+1):\n",
    "    # day까지 반복해서 새로운 일 체크\n",
    "    dp[day] = dp[day-1]\n",
    "    \n",
    "    for i in range(1, day+1):\n",
    "        if t[i] == day-i+1:\n",
    "            dp[day] = max(dp[day], dp[i-1] + p[i])\n",
    "            \n",
    "\n",
    "print(dp[n])"
   ]
  },
  {
   "cell_type": "code",
   "execution_count": null,
   "metadata": {},
   "outputs": [],
   "source": []
  }
 ],
 "metadata": {
  "kernelspec": {
   "display_name": "Python 3",
   "language": "python",
   "name": "python3"
  },
  "language_info": {
   "codemirror_mode": {
    "name": "ipython",
    "version": 3
   },
   "file_extension": ".py",
   "mimetype": "text/x-python",
   "name": "python",
   "nbconvert_exporter": "python",
   "pygments_lexer": "ipython3",
   "version": "3.8.5"
  }
 },
 "nbformat": 4,
 "nbformat_minor": 4
}
