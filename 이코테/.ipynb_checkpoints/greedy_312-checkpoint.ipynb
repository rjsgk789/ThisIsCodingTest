{
 "cells": [
  {
   "cell_type": "code",
   "execution_count": 5,
   "metadata": {},
   "outputs": [
    {
     "name": "stdout",
     "output_type": "stream",
     "text": [
      "567\n",
      "[5, 6, 7]\n",
      "210\n"
     ]
    }
   ],
   "source": [
    "# 곱하기 혹은 더하기\n",
    "\n",
    "'''\n",
    "숫자로 이루어진 문자열 S\n",
    "왼쪽부터 순서대로 곱하거나 더해서 가장 큰 수 만들기\n",
    "'''\n",
    "\n",
    "# 문자열 입력받고\n",
    "numbers = list(map(int, input()))\n",
    "# 문자열 안에서 반복\n",
    "# 앞 2개 선택\n",
    "# max(곱한거, 더한거)\n",
    "\n",
    "before = numbers[0]\n",
    "for i in range(1, len(numbers)):\n",
    "    before = max(before+numbers[i], before*(numbers[i]))\n",
    "\n",
    "print(before)"
   ]
  },
  {
   "cell_type": "code",
   "execution_count": 6,
   "metadata": {},
   "outputs": [
    {
     "name": "stdout",
     "output_type": "stream",
     "text": [
      "02884\n",
      "512\n"
     ]
    }
   ],
   "source": [
    "'''\n",
    "2021_05_25\n",
    "'''\n",
    "numbers = list(map(int, input()))\n",
    "\n",
    "answer = numbers[0]\n",
    "for i in range(1, len(numbers)):\n",
    "    answer = max(answer+numbers[i], answer*numbers[i])\n",
    "\n",
    "print(answer)"
   ]
  }
 ],
 "metadata": {
  "kernelspec": {
   "display_name": "Python 3",
   "language": "python",
   "name": "python3"
  },
  "language_info": {
   "codemirror_mode": {
    "name": "ipython",
    "version": 3
   },
   "file_extension": ".py",
   "mimetype": "text/x-python",
   "name": "python",
   "nbconvert_exporter": "python",
   "pygments_lexer": "ipython3",
   "version": "3.8.5"
  }
 },
 "nbformat": 4,
 "nbformat_minor": 4
}
