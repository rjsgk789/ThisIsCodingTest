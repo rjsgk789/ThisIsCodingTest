{
 "cells": [
  {
   "cell_type": "code",
   "execution_count": null,
   "metadata": {},
   "outputs": [],
   "source": [
    "# 바닥 공사\n",
    "'''\n",
    "N번째 타일을 보자\n",
    "N-2번째 타일에서 가로2개 or 정사각형1개\n",
    "N-1번째 타일에서 세로1개\n",
    "d[n] = d[n-2] * 2 + (d[n-1]\n",
    "'''\n",
    "\n",
    "n = int(input())\n",
    "\n",
    "d = [0] * (n+1)\n",
    "\n",
    "d[1] = 1\n",
    "d[2] = 3\n",
    "\n",
    "for i in range(3, n+1):\n",
    "    d[i] = d[i-2] * 2 + d[i-1]\n",
    "\n",
    "print(d[n])"
   ]
  }
 ],
 "metadata": {
  "kernelspec": {
   "display_name": "Python 3",
   "language": "python",
   "name": "python3"
  },
  "language_info": {
   "codemirror_mode": {
    "name": "ipython",
    "version": 3
   },
   "file_extension": ".py",
   "mimetype": "text/x-python",
   "name": "python",
   "nbconvert_exporter": "python",
   "pygments_lexer": "ipython3",
   "version": "3.8.5"
  }
 },
 "nbformat": 4,
 "nbformat_minor": 4
}
