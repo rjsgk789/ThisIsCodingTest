{
 "cells": [
  {
   "cell_type": "code",
   "execution_count": 20,
   "metadata": {},
   "outputs": [
    {
     "name": "stdout",
     "output_type": "stream",
     "text": [
      "8\n"
     ]
    }
   ],
   "source": [
    "# 음료수 얼려 먹기\n",
    "'''\n",
    "특정 지점의 상하좌우를 살펴본 뒤 0이면 방문\n",
    "반복해서 연결\n",
    "'''\n",
    "\n",
    "n, m = 4, 5\n",
    "\n",
    "graph = [\n",
    "    [0, 0, 1, 1, 0],\n",
    "    [0, 0, 0, 1, 1],\n",
    "    [1, 1, 1, 1, 1],\n",
    "    [0, 0, 0, 0, 0]\n",
    "]\n",
    "\n",
    "\n",
    "n, m = 15, 14\n",
    "graph = [\n",
    "    [0, 0, 0, 0, 0, 1, 1, 1, 1, 0, 0, 0, 0, 0],\n",
    "    [1, 1, 1, 1, 1, 1, 0, 1 ,1, 1, 1 ,1, 1, 0],\n",
    "    [1, 1, 0, 1, 1, 1, 0, 1, 1, 0, 1, 1, 1, 0],\n",
    "    [1, 1, 0, 1, 1, 1, 0, 1, 1, 0, 0, 0, 0, 0],\n",
    "    [1, 1, 0, 1, 1, 1, 1, 1, 1, 1, 1, 1, 1, 1],\n",
    "    [1, 1, 0, 1, 1, 1, 1, 1, 1, 1, 1, 1, 0, 0],\n",
    "    [1, 1, 0, 0, 0, 0, 0, 0, 0, 1, 1, 1, 1, 1],\n",
    "    [0, 1, 1, 1, 1, 1, 1, 1, 1, 1, 1, 1, 1, 1],\n",
    "    [0, 0, 0, 0, 0, 0, 0, 0, 0, 1, 1, 1, 1, 1],\n",
    "    [0, 1, 1, 1, 1, 1, 1, 1, 1, 1, 1, 0, 0, 0],\n",
    "    [0, 0, 0, 1, 1, 1, 1, 1, 1, 1, 1, 0, 0, 0],\n",
    "    [0, 0, 0, 0, 0, 0, 0, 1, 1, 1, 1, 0, 0, 0],\n",
    "    [1, 1, 1, 1, 1, 1, 1, 1, 1, 1, 0, 0, 1, 1],\n",
    "    [1, 1, 1, 0, 0, 0, 1, 1, 1, 1, 1, 1, 1, 1],\n",
    "    [1, 1, 1, 0, 0, 0, 1, 1, 1, 1, 1, 1, 1, 1]\n",
    "]\n",
    "\n",
    "dx = [0, 0, 1, -1]\n",
    "dy = [1, -1, 0, 0]\n",
    "#check = [[False] * m] * n\n",
    "#print(check)\n",
    "# 특정 지점을 받아서 방문처리 후 상하좌우로 recursion하는 함수\n",
    "def dfs(row, column):\n",
    "    if row<0 or column<0 or row>=n or column>=m:\n",
    "        return\n",
    "    \n",
    "    if graph[row][column] == 0:\n",
    "        graph[row][column] = 1\n",
    "        \n",
    "        for i in range(4):\n",
    "            dfs(row+dx[i], column+dy[i])\n",
    "        \n",
    "        return True\n",
    "    else:\n",
    "        return False\n",
    "    \n",
    "count = 0\n",
    "for row in range(n):\n",
    "    for column in range(m):\n",
    "        if dfs(row, column) == True:\n",
    "            count += 1\n",
    "\n",
    "print(count)"
   ]
  },
  {
   "cell_type": "code",
   "execution_count": 7,
   "metadata": {},
   "outputs": [
    {
     "name": "stdout",
     "output_type": "stream",
     "text": [
      "4 5\n",
      "3\n"
     ]
    }
   ],
   "source": [
    "''''\n",
    "2021-05-25\n",
    "'''\n",
    "\n",
    "'''\n",
    "2중 반복문\n",
    "if 0 -> dfs로 다 1로 만들기 and count+=1\n",
    "'''\n",
    "\n",
    "n, m = map(int, input().split())\n",
    "array = [\n",
    "    [0,0,1,1,0],\n",
    "    [0,0,0,1,1],\n",
    "    [1,1,1,1,1],\n",
    "    [0,0,0,0,0]\n",
    "]\n",
    "\n",
    "def dfs(r, c):\n",
    "    if r<0 or c<0 or r>=n or c>=m:\n",
    "        return False\n",
    "    \n",
    "    if array[r][c] == 0:    \n",
    "        array[r][c] = 1\n",
    "    \n",
    "        dfs(r-1, c)\n",
    "        dfs(r, c-1)\n",
    "        dfs(r+1, c)\n",
    "        dfs(r, c+1)\n",
    "        return True\n",
    "    return False\n",
    "\n",
    "\n",
    "count = 0\n",
    "for i in range(n):\n",
    "    for j in range(m):\n",
    "        if dfs(i, j) == True:\n",
    "            count+=1\n",
    "\n",
    "print(count)"
   ]
  }
 ],
 "metadata": {
  "kernelspec": {
   "display_name": "Python 3",
   "language": "python",
   "name": "python3"
  },
  "language_info": {
   "codemirror_mode": {
    "name": "ipython",
    "version": 3
   },
   "file_extension": ".py",
   "mimetype": "text/x-python",
   "name": "python",
   "nbconvert_exporter": "python",
   "pygments_lexer": "ipython3",
   "version": "3.8.5"
  }
 },
 "nbformat": 4,
 "nbformat_minor": 4
}
