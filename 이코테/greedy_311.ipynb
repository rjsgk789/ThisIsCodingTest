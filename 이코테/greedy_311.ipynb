{
 "cells": [
  {
   "cell_type": "code",
   "execution_count": 33,
   "metadata": {},
   "outputs": [
    {
     "name": "stdout",
     "output_type": "stream",
     "text": [
      "1\n",
      "1 2 3 4 5 6 7 8 8\n",
      "2\n"
     ]
    }
   ],
   "source": [
    "#  N명의 공포도\n",
    "\n",
    "# 명 수 입력받기\n",
    "N = input()\n",
    "# 공포도 입력받기\n",
    "scary = list(map(int, input().split()))\n",
    "# 오름차순으로 정렬\n",
    "scary.sort()\n",
    "\n",
    "# 1은 혼자\n",
    "# scary[0]의 숫자의 크기만큼 한묶음\n",
    "# max == scary[0]이면 pop하고 count+=1\n",
    "# 아니면 max만큼으로 범위 늘리기\n",
    "\n",
    "'''\n",
    "size = 0\n",
    "count = 0\n",
    "\n",
    "while(True):\n",
    "    if len(scary)==0:\n",
    "        break\n",
    "    \n",
    "    if size==0:\n",
    "        size = scary[0]\n",
    "    \n",
    "    max_value = max(scary[0: min(size, len(scary))])\n",
    "    \n",
    "    if len(scary) < max_value:\n",
    "        break\n",
    "\n",
    "    if size >= max_value:\n",
    "        count += 1\n",
    "        for i in range(size):\n",
    "            scary.pop(0)\n",
    "        print(scary)\n",
    "        size = 0\n",
    "\n",
    "    else:\n",
    "        size = max_value\n",
    "'''\n",
    "\n",
    "# 이게 답지인데 개 쌉 현타온다\n",
    "count = 0\n",
    "answer = 0\n",
    "for i in scary:\n",
    "    count += 1\n",
    "    if count >= i:\n",
    "        answer += 1\n",
    "        count = 0\n",
    "\n",
    "\n",
    "print(answer)"
   ]
  }
 ],
 "metadata": {
  "kernelspec": {
   "display_name": "Python 3",
   "language": "python",
   "name": "python3"
  },
  "language_info": {
   "codemirror_mode": {
    "name": "ipython",
    "version": 3
   },
   "file_extension": ".py",
   "mimetype": "text/x-python",
   "name": "python",
   "nbconvert_exporter": "python",
   "pygments_lexer": "ipython3",
   "version": "3.8.5"
  }
 },
 "nbformat": 4,
 "nbformat_minor": 4
}
