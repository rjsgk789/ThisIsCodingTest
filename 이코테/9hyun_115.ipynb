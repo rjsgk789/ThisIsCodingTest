{
 "cells": [
  {
   "cell_type": "code",
   "execution_count": 11,
   "metadata": {},
   "outputs": [
    {
     "name": "stdout",
     "output_type": "stream",
     "text": [
      "a1\n",
      "[1, 2]\n",
      "[1, -2]\n",
      "[2, 1]\n",
      "[2, -1]\n",
      "[-1, 2]\n",
      "[-1, -2]\n",
      "[-2, 1]\n",
      "[-2, -1]\n",
      "2\n"
     ]
    }
   ],
   "source": [
    "#왕실의 나이트\n",
    "'''\n",
    "8 X 8 판에 나이트가 위치할 때,\n",
    "갈 수 있는 경로의 개수\n",
    "'''\n",
    "\n",
    "# 처음 위치 입력받기 (ex. 'a1')\n",
    "first_location = input()\n",
    "# 알파벳 숫자로 변환 (a~h -> 1~8)\n",
    "first_x = ord(first_location[0]) - ord('a') + 1\n",
    "first_y = int(first_location[1])\n",
    "# 갈 수 있는 경로 이동\n",
    "cango = [[1, 2], [1, -2], [2, 1], [2, -1], [-1, 2], [-1, -2], [-2, 1], [-2, -1]]\n",
    "# 이동 가능한 경우를 파악해서 이동시켜보고 판 밖에 나갈 경우 제외\n",
    "count=0\n",
    "for i in range(len(cango)):\n",
    "    x = first_x + cango[i][0]\n",
    "    y = first_y + cango[i][1]\n",
    "    if x<1 or x>8 or y<1 or y>8:\n",
    "        continue\n",
    "    count += 1\n",
    "'''\n",
    "for go in cango:\n",
    "    x = first_x + go[0]\n",
    "    y = first_y + go[1]\n",
    "    ...\n",
    "'''\n",
    "print(count)"
   ]
  }
 ],
 "metadata": {
  "kernelspec": {
   "display_name": "Python 3",
   "language": "python",
   "name": "python3"
  },
  "language_info": {
   "codemirror_mode": {
    "name": "ipython",
    "version": 3
   },
   "file_extension": ".py",
   "mimetype": "text/x-python",
   "name": "python",
   "nbconvert_exporter": "python",
   "pygments_lexer": "ipython3",
   "version": "3.8.5"
  }
 },
 "nbformat": 4,
 "nbformat_minor": 4
}
