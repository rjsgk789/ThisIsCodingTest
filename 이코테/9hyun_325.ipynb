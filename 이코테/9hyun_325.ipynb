{
 "cells": [
  {
   "cell_type": "code",
   "execution_count": null,
   "metadata": {},
   "outputs": [],
   "source": [
    "# 자물쇠와 열쇠\n",
    "'''\n",
    "자물쇠의 모든 홈을 채워야 함\n",
    "홈과 돌기가 만나야 함 (홈과 홈, 돌기와 돌기가 만나면 안 됨)\n",
    "더했을 때 1 (0이나 2가 나오면 안 됨)\n",
    "'''\n",
    "\n",
    "# 갖다 대는걸 어떻게 표현할까\n",
    "\n"
   ]
  }
 ],
 "metadata": {
  "kernelspec": {
   "display_name": "Python 3",
   "language": "python",
   "name": "python3"
  },
  "language_info": {
   "codemirror_mode": {
    "name": "ipython",
    "version": 3
   },
   "file_extension": ".py",
   "mimetype": "text/x-python",
   "name": "python",
   "nbconvert_exporter": "python",
   "pygments_lexer": "ipython3",
   "version": "3.8.5"
  }
 },
 "nbformat": 4,
 "nbformat_minor": 4
}
