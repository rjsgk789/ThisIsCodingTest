{
 "cells": [
  {
   "cell_type": "code",
   "execution_count": 15,
   "metadata": {
    "scrolled": true
   },
   "outputs": [
    {
     "name": "stdout",
     "output_type": "stream",
     "text": [
      "10101010\n",
      "1\n",
      "3\n",
      "5\n",
      "7\n",
      "4\n"
     ]
    }
   ],
   "source": [
    "# 문자열 뒤집기\n",
    "'''\n",
    "0과 1로만 이루어진 문자열 S\n",
    "연속된 숫자를 잡고 모두 뒤집어서\n",
    "모든 숫자를 같게 만들어야 함\n",
    "최소 횟수는?\n",
    "'''\n",
    "\n",
    "# 문자열 S 입력받기\n",
    "S = input()\n",
    "# check = S[0]\n",
    "check = S[0]\n",
    "# 문자열 안에서 반복해서\n",
    "# if S[i] != check: 반복해서 check랑 같을 때까지\n",
    "\n",
    "i = 0\n",
    "count = 0\n",
    "while(True):\n",
    "    i += 1\n",
    "    if i >= len(S):\n",
    "        break\n",
    "    print(i)\n",
    "    if S[i] != check:\n",
    "        while(True):\n",
    "            i += 1\n",
    "            if i >= len(S):\n",
    "                break\n",
    "            if(S[i] == check):\n",
    "                break\n",
    "        count += 1\n",
    "\n",
    "\n",
    "print(count)"
   ]
  }
 ],
 "metadata": {
  "kernelspec": {
   "display_name": "Python 3",
   "language": "python",
   "name": "python3"
  },
  "language_info": {
   "codemirror_mode": {
    "name": "ipython",
    "version": 3
   },
   "file_extension": ".py",
   "mimetype": "text/x-python",
   "name": "python",
   "nbconvert_exporter": "python",
   "pygments_lexer": "ipython3",
   "version": "3.8.5"
  }
 },
 "nbformat": 4,
 "nbformat_minor": 4
}
