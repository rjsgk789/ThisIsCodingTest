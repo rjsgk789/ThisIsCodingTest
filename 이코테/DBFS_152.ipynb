{
 "cells": [
  {
   "cell_type": "code",
   "execution_count": 24,
   "metadata": {},
   "outputs": [
    {
     "name": "stdout",
     "output_type": "stream",
     "text": [
      "[[True, False, True, False, True, False], [True, True, True, True, True, True], [False, False, False, False, False, True], [True, True, True, True, True, True], [True, True, True, True, True, True]]\n",
      "[[3, 0, 5, 0, 7, 0], [2, 3, 4, 5, 6, 7], [0, 0, 0, 0, 0, 8], [14, 13, 12, 11, 10, 9], [15, 14, 13, 12, 11, 10]]\n",
      "10\n"
     ]
    }
   ],
   "source": [
    "# 미로 탈출\n",
    "\n",
    "'''\n",
    "묶음 묶음 따로할 때는 DFS (재귀 함수)\n",
    "최단경로 구할 때는 BFS - 노드 간의 거리가 일정할 때\n",
    "'''\n",
    "\n",
    "from collections import deque\n",
    "\n",
    "n, m = 5, 6\n",
    "miro = [\n",
    "    [1,0,1,0,1,0],\n",
    "    [1,1,1,1,1,1],\n",
    "    [0,0,0,0,0,1],\n",
    "    [1,1,1,1,1,1],\n",
    "    [1,1,1,1,1,1],\n",
    "]\n",
    "\n",
    "# 0,0에서 시작\n",
    "\n",
    "# 상하좌우에 1이 있으면 전진 (queue에 넣고 숫자부여)\n",
    "\n",
    "dx = [1, -1, 0, 0]\n",
    "dy = [0, 0, 1, -1]\n",
    "\n",
    "check = [[False] * m for _ in range(n)]\n",
    "\n",
    "queue = deque()\n",
    "\n",
    "queue.append([0, 0])\n",
    "check[0][0] = True\n",
    "\n",
    "while queue:\n",
    "    row, col = queue.popleft()\n",
    "    for i in range(4):\n",
    "        x = row+dx[i]\n",
    "        y = col+dy[i]\n",
    "        \n",
    "        if x<0 or y<0 or x>=n or y>=m:\n",
    "            continue\n",
    "        \n",
    "        if miro[x][y] == 1 and check[x][y] == False:\n",
    "            queue.append([x, y])\n",
    "            check[x][y] = True\n",
    "            miro[x][y] = miro[row][col] + 1\n",
    "\n",
    "print(check)\n",
    "print(miro)\n",
    "print(miro[n-1][m-1])"
   ]
  }
 ],
 "metadata": {
  "kernelspec": {
   "display_name": "Python 3",
   "language": "python",
   "name": "python3"
  },
  "language_info": {
   "codemirror_mode": {
    "name": "ipython",
    "version": 3
   },
   "file_extension": ".py",
   "mimetype": "text/x-python",
   "name": "python",
   "nbconvert_exporter": "python",
   "pygments_lexer": "ipython3",
   "version": "3.8.5"
  }
 },
 "nbformat": 4,
 "nbformat_minor": 4
}
