{
 "cells": [
  {
   "cell_type": "code",
   "execution_count": 9,
   "metadata": {
    "scrolled": true
   },
   "outputs": [
    {
     "name": "stdout",
     "output_type": "stream",
     "text": [
      "3 1 2\n",
      "5\n",
      "1\n"
     ]
    }
   ],
   "source": [
    "# 무지의 먹방 라이브\n",
    "'''\n",
    "회전판에 N개의 음식 (1번 ... N번)\n",
    "'''\n",
    "\n",
    "# foodtimes 입력받기\n",
    "foodtimes = list(map(int, input().split()))\n",
    "# K 입력받기\n",
    "K = int(input())\n",
    "# while K > 0\n",
    "# foodtimes[idx] 가 0이면 index +=1 break\n",
    "# K -= 1\n",
    "# index += 1\n",
    "idx = 0\n",
    "while(K>0):\n",
    "    idx = idx % 3\n",
    "    if foodtimes[idx]==0:\n",
    "        idx += 1\n",
    "        \n",
    "        continue\n",
    "    \n",
    "    foodtimes[idx] -= 1\n",
    "    K -= 1\n",
    "    idx += 1\n",
    "\n",
    "\n",
    "print(idx%3 + 1)"
   ]
  }
 ],
 "metadata": {
  "kernelspec": {
   "display_name": "Python 3",
   "language": "python",
   "name": "python3"
  },
  "language_info": {
   "codemirror_mode": {
    "name": "ipython",
    "version": 3
   },
   "file_extension": ".py",
   "mimetype": "text/x-python",
   "name": "python",
   "nbconvert_exporter": "python",
   "pygments_lexer": "ipython3",
   "version": "3.8.5"
  }
 },
 "nbformat": 4,
 "nbformat_minor": 4
}
