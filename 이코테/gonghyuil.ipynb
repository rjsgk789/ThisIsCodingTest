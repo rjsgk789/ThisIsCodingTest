{
 "cells": [
  {
   "cell_type": "code",
   "execution_count": 23,
   "metadata": {},
   "outputs": [],
   "source": [
    "# 년 월 일이 입력되었을 때 요일을 알려주는 함수?\n",
    "\n",
    "def yoil(year, month, day):\n",
    "    days = [31, 28, 31, 30, 31 ,30, 31, 31, 30, 31, 30, 31]\n",
    "    what = ['Sun','Mon','Tue','Wed','Thu','Fri','Sat']\n",
    "    \n",
    "    for i in range(2021, year):\n",
    "        day = day + sum(days)\n",
    "        if i%4==0:\n",
    "            day+=1\n",
    "    \n",
    "    for i in range(month-1):\n",
    "        day += days[i]\n",
    "    \n",
    "    day = day+4\n",
    "    day = day%7\n",
    "    \n",
    "    return what[day]"
   ]
  },
  {
   "cell_type": "code",
   "execution_count": 30,
   "metadata": {},
   "outputs": [
    {
     "name": "stdout",
     "output_type": "stream",
     "text": [
      "year? 2021\n",
      "Fri\n",
      "Mon\n",
      "Wed\n",
      "Wed\n",
      "Sun\n",
      "Sat\n",
      " 2021 년의 총 평일공휴일 수는 4 일 입니다!\n"
     ]
    }
   ],
   "source": [
    "count = 0\n",
    "what = ['Sun','Mon','Tue','Wed','Thu','Fri','Sat']\n",
    "\n",
    "print(\"year? \", end='')\n",
    "year = int(input())\n",
    "# 공휴일이 담긴 리스트\n",
    "array = [(1, 1), (3, 1), (5, 5), (5, 19), (8, 15), (12, 25)]\n",
    "\n",
    "\n",
    "for i in array:\n",
    "    result = yoil(2021, i[0], i[1])\n",
    "    print(result)\n",
    "    if result in what[1: 6]:\n",
    "        count+=1\n",
    "\n",
    "print('', year, '년의 총 평일공휴일 수는', count, '일 입니다!')"
   ]
  }
 ],
 "metadata": {
  "kernelspec": {
   "display_name": "Python 3",
   "language": "python",
   "name": "python3"
  },
  "language_info": {
   "codemirror_mode": {
    "name": "ipython",
    "version": 3
   },
   "file_extension": ".py",
   "mimetype": "text/x-python",
   "name": "python",
   "nbconvert_exporter": "python",
   "pygments_lexer": "ipython3",
   "version": "3.8.5"
  }
 },
 "nbformat": 4,
 "nbformat_minor": 4
}
