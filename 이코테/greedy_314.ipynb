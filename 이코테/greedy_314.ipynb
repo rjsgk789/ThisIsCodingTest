{
 "cells": [
  {
   "cell_type": "code",
   "execution_count": 1,
   "metadata": {},
   "outputs": [
    {
     "name": "stdout",
     "output_type": "stream",
     "text": [
      "1 2 4 8 16 32 64\n",
      "128\n"
     ]
    }
   ],
   "source": [
    "# 만들 수 없는 금액\n",
    "# 다 더해보고 1부터 쭈욱 올라가면서 없는거 찾아?\n",
    "# 다 더하는거 에바야 2 ^ N ㅋㅋㅋㅋㅋㅋ\n",
    "\n",
    "'''\n",
    "1 - 1\n",
    "2 - 1+1\n",
    "3 - 2+1 1+1+1\n",
    "4 - 3+1 2+2 2+1+1 1+1+1+1\n",
    "'''\n",
    "\n",
    "'''\n",
    "# 좋은 시도였지만 안타깝게도... pop을 할 수 있다면 모를까\n",
    "# num이 coin 안의 숫자들로 만들 수 있는지 알려주는 함수\n",
    "\n",
    "def isin(num, coin):\n",
    "    if num in coin:\n",
    "        return True\n",
    "    \n",
    "    # num 자체는 코인 안에 없으니 분리해서 알아봐야함\n",
    "    count = 0\n",
    "    while(True):\n",
    "        count+=1\n",
    "        if count > num//2:\n",
    "            break\n",
    "        if isin(num-count, coin) and isin(count, coin):\n",
    "            coin.remove(count)\n",
    "            coin.remove(num-count)\n",
    "            return True\n",
    "    \n",
    "    return False\n",
    "coin = list(map(int, input().split()))\n",
    "print(isin(8, coin))\n",
    "'''\n",
    "\n",
    "\n",
    "data = list(map(int, input().split()))\n",
    "data.sort()\n",
    "\n",
    "target = 1\n",
    "for x in data:\n",
    "    if target < x:\n",
    "        break\n",
    "    target += x\n",
    "print(target)\n",
    "\n",
    "'''\n",
    "target 1\n",
    "x 1\n",
    "target 2\n",
    "x 2\n",
    "'''\n",
    "\n",
    "# target까진 커버 가능했어.\n",
    "# target >= x 이면 target + x까지 커버 가능?"
   ]
  }
 ],
 "metadata": {
  "kernelspec": {
   "display_name": "Python 3",
   "language": "python",
   "name": "python3"
  },
  "language_info": {
   "codemirror_mode": {
    "name": "ipython",
    "version": 3
   },
   "file_extension": ".py",
   "mimetype": "text/x-python",
   "name": "python",
   "nbconvert_exporter": "python",
   "pygments_lexer": "ipython3",
   "version": "3.8.5"
  }
 },
 "nbformat": 4,
 "nbformat_minor": 4
}
