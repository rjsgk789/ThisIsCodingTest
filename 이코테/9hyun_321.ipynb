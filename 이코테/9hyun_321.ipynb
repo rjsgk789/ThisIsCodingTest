{
 "cells": [
  {
   "cell_type": "code",
   "execution_count": 20,
   "metadata": {},
   "outputs": [
    {
     "name": "stdout",
     "output_type": "stream",
     "text": [
      "123333\n",
      "[1, 2, 3, 3, 3, 3]\n",
      "READY\n"
     ]
    }
   ],
   "source": [
    "# 럭키 스트레이트\n",
    "'''\n",
    "점수\n",
    "앞 절반의 합 = 뒤 절반의 합\n",
    "일 때 LUCKY\n",
    "아니면 READY\n",
    "'''\n",
    "\n",
    "# 점수 입력받기\n",
    "N = list(map(int, input()))\n",
    "# 반 나누기\n",
    "left = N[: len(N)//2]\n",
    "right = N[len(N)//2: ]\n",
    "# sum이 같은지 확인\n",
    "answer = 'READY'\n",
    "if sum(left) == sum(right):\n",
    "    answer = 'LUCKY'\n",
    "# 출력\n",
    "print(answer)"
   ]
  }
 ],
 "metadata": {
  "kernelspec": {
   "display_name": "Python 3",
   "language": "python",
   "name": "python3"
  },
  "language_info": {
   "codemirror_mode": {
    "name": "ipython",
    "version": 3
   },
   "file_extension": ".py",
   "mimetype": "text/x-python",
   "name": "python",
   "nbconvert_exporter": "python",
   "pygments_lexer": "ipython3",
   "version": "3.8.5"
  }
 },
 "nbformat": 4,
 "nbformat_minor": 4
}
