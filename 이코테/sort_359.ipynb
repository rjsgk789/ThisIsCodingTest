{
 "cells": [
  {
   "cell_type": "code",
   "execution_count": 18,
   "metadata": {},
   "outputs": [
    {
     "name": "stdout",
     "output_type": "stream",
     "text": [
      "Donghyuk\n",
      "Sangkeun\n",
      "Sunyoung\n",
      "nsj\n",
      "Wonseob\n",
      "Sanghyun\n",
      "Sei\n",
      "Kangsoo\n",
      "Haebin\n",
      "Junkyu\n",
      "Soong\n",
      "Taewhan\n"
     ]
    }
   ],
   "source": [
    "array=[\n",
    "    ['Junkyu', '50', '60', '100'],\n",
    "    ['Sangkeun', '80', '60', '50'],\n",
    "    ['Sunyoung', '80', '70', '100'],\n",
    "    ['Soong', '50', '60', '90'],\n",
    "    ['Haebin', '50', '60', '100'],\n",
    "    ['Kangsoo', '60', '80', '100'],\n",
    "    ['Donghyuk', '80', '60', '100'],\n",
    "    ['Sei', '70', '70', '70'],\n",
    "    ['Wonseob', '70', '70', '90'],\n",
    "    ['Sanghyun', '70', '70', '80'],\n",
    "    ['nsj', '80', '80', '80'],\n",
    "    ['Taewhan', '50', '60', '90']\n",
    "    \n",
    "]\n",
    "\n",
    "array.sort(key = lambda x: (-int(x[1]), int(x[2]), -int(x[3]), x[0]))\n",
    "\n",
    "for i in array:\n",
    "    print(i[0])"
   ]
  }
 ],
 "metadata": {
  "kernelspec": {
   "display_name": "Python 3",
   "language": "python",
   "name": "python3"
  },
  "language_info": {
   "codemirror_mode": {
    "name": "ipython",
    "version": 3
   },
   "file_extension": ".py",
   "mimetype": "text/x-python",
   "name": "python",
   "nbconvert_exporter": "python",
   "pygments_lexer": "ipython3",
   "version": "3.8.5"
  }
 },
 "nbformat": 4,
 "nbformat_minor": 4
}
